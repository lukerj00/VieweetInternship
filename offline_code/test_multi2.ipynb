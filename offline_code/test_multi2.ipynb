{
 "cells": [
  {
   "cell_type": "code",
   "execution_count": 1,
   "source": [
    "# +\r\n",
    "# #!pip install torch==1.6.0\r\n",
    "\r\n",
    "# +\r\n",
    "\"\"\"\r\n",
    "Load and test combinations of trained models\r\n",
    "\"\"\"\r\n",
    "\r\n",
    "from argparse import Namespace\r\n",
    "import os\r\n",
    "import argparse\r\n",
    "import copy\r\n",
    "import joblib\r\n",
    "import json\r\n",
    "\r\n",
    "import numpy as np\r\n",
    "\r\n",
    "import torch\r\n",
    "from torch.autograd import Variable as V\r\n",
    "import torch.optim as optim\r\n",
    "from torch.nn import functional as F\r\n",
    "from torchvision import transforms as trn\r\n",
    "from torch.utils.data.sampler import WeightedRandomSampler\r\n",
    "\r\n",
    "#from azureml.core import Workspace, Datastore, Dataset, Experiment\r\n",
    "\r\n",
    "import smallmodel\r\n",
    "import utils\r\n",
    "import datasets\r\n",
    "\r\n",
    "print(torch.__version__)\r\n",
    "\r\n",
    "#from azureml.core.run import Run\r\n",
    "# get the Azure ML run object\r\n",
    "#run = Run.get_context()"
   ],
   "outputs": [
    {
     "output_type": "stream",
     "name": "stdout",
     "text": [
      "1.6.0\n"
     ]
    }
   ],
   "metadata": {}
  },
  {
   "cell_type": "code",
   "execution_count": 2,
   "source": [
    "print(torch.__version__)"
   ],
   "outputs": [
    {
     "output_type": "stream",
     "name": "stdout",
     "text": [
      "1.6.0\n"
     ]
    }
   ],
   "metadata": {}
  },
  {
   "cell_type": "code",
   "execution_count": 3,
   "source": [
    "# -\r\n",
    "\r\n",
    "def load_data(args):\r\n",
    "    \"\"\"Load the test data.\"\"\"\r\n",
    "\r\n",
    "    # Data augmentation and normalization for training\r\n",
    "    # Just normalization for validation\r\n",
    "    #torch.manual_seed(1)\r\n",
    "    data_transforms = trn.Compose([\r\n",
    "            trn.Resize((64,128)),\r\n",
    "            trn.ToTensor(),\r\n",
    "            trn.Normalize([0.485, 0.456, 0.406], [0.229, 0.224, 0.225])\r\n",
    "        ])\r\n",
    "\r\n",
    "    # Simple selection of possible class labels\r\n",
    "    classes = utils.clean_classes(args.classifier)\r\n",
    "\r\n",
    "    # load the data (passed as an input dataset)\r\n",
    "    print(\"Loading Data...\")\r\n",
    "    print('Original class distributions used (possibly imbalanced)')\r\n",
    "    image_dataset = datasets.CleanDataset(args, data_transforms, classes)\r\n",
    "    dataloader = torch.utils.data.DataLoader(image_dataset, args.batch_size, \r\n",
    "        num_workers=2, shuffle=True)\r\n",
    "\r\n",
    "    dataset_size = len(image_dataset)\r\n",
    "\r\n",
    "    return dataloader, dataset_size, [*classes]"
   ],
   "outputs": [],
   "metadata": {}
  },
  {
   "cell_type": "code",
   "execution_count": 6,
   "source": [
    "print(torch.__version__)"
   ],
   "outputs": [
    {
     "output_type": "stream",
     "name": "stdout",
     "text": [
      "1.6.0\n"
     ]
    }
   ],
   "metadata": {}
  },
  {
   "cell_type": "code",
   "execution_count": 4,
   "source": [
    "\r\n",
    "def load_models(args):\r\n",
    "    \r\n",
    "    base_path = args.model_dir\r\n",
    "    #os.path(\r\n",
    "        \r\n",
    "    selections = [         \r\n",
    "        ['int_ext',     1],   \r\n",
    "        ['per_com',     1],\r\n",
    "        ['int_main_5',  1],   \r\n",
    "        ['bathroom',    1],   \r\n",
    "        ['ensuite',     1],   \r\n",
    "        ['bedroom',     1],  \r\n",
    "        ['kitchen_3',   1], \r\n",
    "        ['living_2',    1], \r\n",
    "        ['aux_4',       1],\r\n",
    "        ['ext_main',    1],\r\n",
    "        ['ext_front',   1], \r\n",
    "        ['ext_rear',    1] \r\n",
    "    ]\r\n",
    "\r\n",
    "    models={}\r\n",
    "    for s in selections:\r\n",
    "        if s[1] == 1:\r\n",
    "            model = smallmodel.SmallModel(len(utils.clean_classes(s[0])))\r\n",
    "            \r\n",
    "            pretrained_dict = torch.load(os.path.join(base_path,'{}\\model.pth'.format(s[0])),\r\n",
    "                                         map_location=torch.device('cpu'))\r\n",
    "            model.load_state_dict(pretrained_dict)\r\n",
    "            model.to(device)\r\n",
    "            for name, param in model.named_parameters():\r\n",
    "                    param.requires_grad = False            \r\n",
    "                    \r\n",
    "            models[s[0]] = model\r\n",
    "    \r\n",
    "    return models"
   ],
   "outputs": [],
   "metadata": {}
  },
  {
   "cell_type": "code",
   "execution_count": 10,
   "source": [
    "args = Namespace(\r\n",
    "classifier='full',\r\n",
    "batch_size=1,\r\n",
    "dummy=True,\r\n",
    "data_dir = os.path.normpath(\"C:/Users/lukej/Documents/VieweetInternship/DataForLuke-20210816T212605Z-001/DataForLuke/images\"),\r\n",
    "model_dir = os.path.normpath(\"C:/Users/lukej/Documents/VieweetInternship/DataForLuke-20210816T212605Z-001/DataForLuke/models\"),\r\n",
    "#data_dir = \"..\\images\", \r\n",
    "#model_dir = \"..\\models\"\r\n",
    "c_pathtest = os.path.normpath(\"C:/Users/lukej/Documents/VieweetInternship/DataForLuke-20210816T212605Z-001/DataForLuke/full_wmeta.csv\")\r\n",
    ")\r\n",
    "base_path = args.model_dir\r\n",
    "print(base_path)\r\n",
    "#print(data_dir)\r\n",
    "#print(c_path)"
   ],
   "outputs": [
    {
     "output_type": "stream",
     "name": "stdout",
     "text": [
      "C:\\Users\\lukej\\Documents\\VieweetInternship\\DataForLuke-20210816T212605Z-001\\DataForLuke\\models\n"
     ]
    }
   ],
   "metadata": {}
  },
  {
   "cell_type": "code",
   "execution_count": 6,
   "source": [
    "# +\r\n",
    "# Define model order\r\n",
    "\r\n",
    "def predict(classifier, inputs):\r\n",
    "    #print('{} on cuda: {}'.format(classifier, next(models[classifier].parameters()).device))\r\n",
    "    outputs = models[classifier](inputs)\r\n",
    "    probs = F.softmax(outputs,1)\r\n",
    "    _, pred = torch.max(probs, 1)\r\n",
    "    return pred"
   ],
   "outputs": [],
   "metadata": {}
  },
  {
   "cell_type": "code",
   "execution_count": 7,
   "source": [
    "def model_logic(models, inputs, metadata):\r\n",
    "    try:\r\n",
    "        tmp = predict('int_ext', inputs)\r\n",
    "        if tmp == 0:\r\n",
    "            tmp = predict('per_com',inputs)\r\n",
    "            if tmp == 0:\r\n",
    "                tmp = predict('int_main_52',inputs)\r\n",
    "                if tmp == 0:\r\n",
    "                    tmp = predict('bathroom',inputs)\r\n",
    "                    if tmp == 0:\r\n",
    "                        tmp = predict('ensuite',inputs)\r\n",
    "                        if tmp  == 0:\r\n",
    "                            output = 1\r\n",
    "                        elif tmp ==1 : \r\n",
    "                            output = 0\r\n",
    "                        else: \r\n",
    "                            print('Error: {}, {}'.format('ensuite01',tmp))\r\n",
    "                            output = 22\r\n",
    "                    elif tmp == 1:\r\n",
    "                        tmp = predict('ensuite',inputs)\r\n",
    "                        if tmp == 0:\r\n",
    "                            output = 3\r\n",
    "                        elif tmp == 1: \r\n",
    "                            output = 2\r\n",
    "                        else: \r\n",
    "                            print('Error: {}, {}'.format('ensuite23',tmp))\r\n",
    "                            output = 22\r\n",
    "                    elif tmp == 2:\r\n",
    "                        tmp = predict('ensuite',inputs)\r\n",
    "                        if tmp == 0:\r\n",
    "                            output = 5\r\n",
    "                        elif tmp == 1:\r\n",
    "                            output = 4\r\n",
    "                        else: \r\n",
    "                            print('Error: {}, {}'.format('ensuite45',tmp))\r\n",
    "                            output = 22\r\n",
    "                    else: \r\n",
    "                        print('Error: {}, {}'.format('bathroom',tmp))\r\n",
    "                        output = 22\r\n",
    "                elif tmp == 1:\r\n",
    "                    if metadata == 1.0:\r\n",
    "                        output = 6\r\n",
    "                    else: \r\n",
    "                        tmp = predict('bedroom',inputs)\r\n",
    "                        if tmp == 0:\r\n",
    "                            output = 6\r\n",
    "                        elif tmp == 1:\r\n",
    "                            output = 7\r\n",
    "                        else: \r\n",
    "                            print('Error: {}, {}'.format('bedroom',tmp))\r\n",
    "                            output = 22\r\n",
    "                elif tmp == 2:\r\n",
    "                    tmp = predict('kitchen_3',inputs)\r\n",
    "                    if tmp == 0:\r\n",
    "                        output = 8\r\n",
    "                    elif tmp == 1:\r\n",
    "                        output = 9\r\n",
    "                    elif tmp == 2:\r\n",
    "                        output = 10\r\n",
    "                    else: \r\n",
    "                        print('Error: {}, {}'.format('kitchen',tmp))\r\n",
    "                        output = 22\r\n",
    "                elif tmp == 3:\r\n",
    "                    tmp = predict('living_2',inputs)\r\n",
    "                    if tmp == 0:\r\n",
    "                        output = 11\r\n",
    "                    elif tmp == 1:\r\n",
    "                        output = 12\r\n",
    "                    else: \r\n",
    "                        print('Error: {}, {}'.format('living',tmp))\r\n",
    "                        output = 22\r\n",
    "                elif tmp == 4:\r\n",
    "                    tmp = predict('aux_4',inputs)\r\n",
    "                    if tmp == 0:\r\n",
    "                        output = 13 # output = tmp + 13?\r\n",
    "                    elif tmp == 1:\r\n",
    "                        output = 14\r\n",
    "                    elif tmp == 2:\r\n",
    "                        output = 15\r\n",
    "                    elif tmp == 3:\r\n",
    "                        output = 16\r\n",
    "                    else: \r\n",
    "                        print('Error: {}, {}'.format('int_main',tmp))\r\n",
    "                        output = 22\r\n",
    "                else: \r\n",
    "                    print('Error: {}, {}'.format('int_main',tmp))\r\n",
    "                    output = 22\r\n",
    "            elif tmp == 1:\r\n",
    "                output = 17 ####predict('communal')\r\n",
    "            else: \r\n",
    "                print('Error: {}, {}'.format('per_com',tmp))\r\n",
    "                output = 22\r\n",
    "        elif tmp == 1:\r\n",
    "            tmp = predict('ext_main',inputs)\r\n",
    "            if tmp == 0:\r\n",
    "                tmp = predict('ext_front',inputs)\r\n",
    "                if tmp == 0:\r\n",
    "                    output = 19\r\n",
    "                elif tmp == 1:\r\n",
    "                    output = 20\r\n",
    "                elif tmp == 2:\r\n",
    "                    output = 21\r\n",
    "                else: \r\n",
    "                    print('Error: {}, {}'.format('ext_front',tmp))\r\n",
    "                    output = 22\r\n",
    "            elif tmp == 1:\r\n",
    "                tmp = predict('ext_rear',inputs)\r\n",
    "                if tmp == 0:\r\n",
    "                    output = 22\r\n",
    "                elif tmp == 1:\r\n",
    "                    output = 23\r\n",
    "                elif tmp == 2:\r\n",
    "                    output = 24\r\n",
    "                else: \r\n",
    "                    print('Error: {}, {}'.format('ext_rear',tmp))\r\n",
    "                    output = 22\r\n",
    "            else: \r\n",
    "                print('Error: {}, {}'.format('ext_main',tmp))\r\n",
    "                output = 22\r\n",
    "        else: \r\n",
    "            print('Error: {}, {}'.format('int_ext',tmp))\r\n",
    "            output = 22\r\n",
    "            \r\n",
    "        return torch.Tensor([output]).to(device)\r\n",
    "    except:\r\n",
    "        print('Error, {}'.format(tmp))\r\n",
    "        return torch.Tensor([0]).to(device)"
   ],
   "outputs": [],
   "metadata": {}
  },
  {
   "cell_type": "code",
   "execution_count": 22,
   "source": [
    "from pprint import pprint\r\n",
    "pprint((args))\r\n",
    "print(type(args))"
   ],
   "outputs": [
    {
     "output_type": "stream",
     "name": "stdout",
     "text": [
      "Namespace(batch_size=1, classifier='full', data_dir='C:\\\\Users\\\\lukej\\\\Documents\\\\VieweetInternship\\\\DataForLuke-20210816T212605Z-001\\\\DataForLuke\\\\images', dummy=True, model_dir='C:\\\\Users\\\\lukej\\\\Documents\\\\VieweetInternship\\\\DataForLuke-20210816T212605Z-001\\\\DataForLuke\\\\models')\n",
      "<class 'argparse.Namespace'>\n"
     ]
    }
   ],
   "metadata": {}
  },
  {
   "cell_type": "code",
   "execution_count": 23,
   "source": [
    "#load_data(args)"
   ],
   "outputs": [],
   "metadata": {}
  },
  {
   "cell_type": "code",
   "execution_count": 20,
   "source": [
    "# -\r\n",
    "\r\n",
    "#if __name__ == \"__main__\":\r\n",
    "\r\n",
    "args = Namespace(\r\n",
    "classifier='full',\r\n",
    "batch_size=1,\r\n",
    "dummy=True,\r\n",
    "data_dir = os.path.normpath(\"C:/Users/lukej/Documents/VieweetInternship/DataForLuke-20210816T212605Z-001/DataForLuke/images\"),\r\n",
    "model_dir = os.path.normpath(\"C:/Users/lukej/Documents/VieweetInternship/DataForLuke-20210816T212605Z-001/DataForLuke/models\"),\r\n",
    ")\r\n",
    "# get command-line arguments\r\n",
    "# parser = argparse.ArgumentParser()\r\n",
    "# parser.add_argument('--data_dir', default='room-images', help='directory of data')\r\n",
    "# parser.add_argument('--model_dir', help='directory of models')\r\n",
    "# parser.add_argument('--log_dir', type=str, default='logs', help='log directory')\r\n",
    "# parser.add_argument('--arch', type=str, default='resnet50', help='Which model to use (resnet on places365, efficientnet on ImageNet)')\r\n",
    "# parser.add_argument('--classifier', type=str, default='full', help='Which classifier to train')\r\n",
    "# parser.add_argument('--batch_size', type=int, default=1)\r\n",
    "# parser.add_argument('--dummy', dest='dummy', action='store_true', help='Dummy 5-batch run')\r\n",
    "# parser.add_argument('--noise_frac', type=float, default=None,help='fraction of input from previous classifier that is noise/ mislabelled')\r\n",
    "# parser.add_argument('--sample_conf', dest='sample_conf', action='store_true', help='save confidence of each sample')\r\n",
    "# parser.add_argument('--incl_metadata', dest='incl_metadata', action='store_true', help='Load metadata from codex')\r\n",
    "# args = parser.parse_args()\r\n",
    "\r\n",
    "if torch.cuda.is_available():\r\n",
    "    device = torch.device('cuda:0')\r\n",
    "else:\r\n",
    "    device = torch.device('cpu')\r\n",
    "\r\n",
    "models = load_models(args)\r\n",
    "\r\n",
    "dataloader, dataset_size, class_names = load_data(args)\r\n",
    "# = load_data(args)\r\n",
    "\r\n",
    "running_corrects = 0\r\n",
    "#int_main_preds = []\r\n",
    "\r\n",
    "# for confusion matrix\r\n",
    "all_preds, all_labels = [],[]\r\n",
    "# for analysing confidence\r\n",
    "all_ids, all_probs = [],[]\r\n",
    "\r\n",
    "# Iterate over data.\r\n",
    "for batch_idx, (inputs, labels, metadata, _) in enumerate(dataloader): \r\n",
    "    if args.dummy and batch_idx > 5:\r\n",
    "        break\r\n",
    "\r\n",
    "    inputs = inputs.to(device)\r\n",
    "    labels = labels.to(device)\r\n",
    "    preds = model_logic(models, inputs, metadata)\r\n",
    "\r\n",
    "    # statistics\r\n",
    "    corrects = torch.sum(preds == labels.data).float()\r\n",
    "    running_corrects += corrects\r\n",
    "\r\n",
    "    all_preds.extend(preds.tolist())\r\n",
    "    all_labels.extend(labels.tolist())\r\n",
    "\r\n",
    "\r\n",
    "    #if args.sample_conf == True:\r\n",
    "    #    all_ids.extend(img_ids)\r\n",
    "\r\n",
    "    if batch_idx % 10000 == 0:\r\n",
    "            print('Batch {}/{}'.format(batch_idx, dataset_size))\r\n",
    "    #        print(int_main_preds)\r\n",
    "test_acc = running_corrects.double() / dataset_size    \r\n",
    "#utils.metrics(run, test_acc, all_labels, all_preds, class_names)   \r\n",
    "\r\n",
    "# if args.sample_conf == True:\r\n",
    "# confs = [[all_ids[i],all_labels[i],all_probs[i]] for i,_ in enumerate(all_ids)]\r\n",
    "\r\n",
    "print('Test Acc: {:.4f}'.format(test_acc))    \r\n",
    "\r\n",
    "os.makedirs('./outputs', exist_ok=True)\r\n",
    "with open('outputs/args.json', 'w') as fp:\r\n",
    "    json.dump(vars(args), fp)\r\n",
    "\r\n",
    "#run.complete()"
   ],
   "outputs": [
    {
     "output_type": "stream",
     "name": "stdout",
     "text": [
      "Loading Data...\n",
      "Original class distributions used (possibly imbalanced)\n"
     ]
    },
    {
     "output_type": "error",
     "ename": "ValueError",
     "evalue": "Invalid file path or buffer object type: <class 'tuple'>",
     "traceback": [
      "\u001b[1;31m---------------------------------------------------------------------------\u001b[0m",
      "\u001b[1;31mValueError\u001b[0m                                Traceback (most recent call last)",
      "\u001b[1;32m<ipython-input-20-a6ed72a88be6>\u001b[0m in \u001b[0;36m<module>\u001b[1;34m\u001b[0m\n\u001b[0;32m     31\u001b[0m \u001b[0mmodels\u001b[0m \u001b[1;33m=\u001b[0m \u001b[0mload_models\u001b[0m\u001b[1;33m(\u001b[0m\u001b[0margs\u001b[0m\u001b[1;33m)\u001b[0m\u001b[1;33m\u001b[0m\u001b[1;33m\u001b[0m\u001b[0m\n\u001b[0;32m     32\u001b[0m \u001b[1;33m\u001b[0m\u001b[0m\n\u001b[1;32m---> 33\u001b[1;33m \u001b[0mdataloader\u001b[0m\u001b[1;33m,\u001b[0m \u001b[0mdataset_size\u001b[0m\u001b[1;33m,\u001b[0m \u001b[0mclass_names\u001b[0m \u001b[1;33m=\u001b[0m \u001b[0mload_data\u001b[0m\u001b[1;33m(\u001b[0m\u001b[0margs\u001b[0m\u001b[1;33m)\u001b[0m\u001b[1;33m\u001b[0m\u001b[1;33m\u001b[0m\u001b[0m\n\u001b[0m\u001b[0;32m     34\u001b[0m \u001b[1;31m# = load_data(args)\u001b[0m\u001b[1;33m\u001b[0m\u001b[1;33m\u001b[0m\u001b[1;33m\u001b[0m\u001b[0m\n\u001b[0;32m     35\u001b[0m \u001b[1;33m\u001b[0m\u001b[0m\n",
      "\u001b[1;32m<ipython-input-3-feeef8cb4a4a>\u001b[0m in \u001b[0;36mload_data\u001b[1;34m(args)\u001b[0m\n\u001b[0;32m     19\u001b[0m     \u001b[0mprint\u001b[0m\u001b[1;33m(\u001b[0m\u001b[1;34m\"Loading Data...\"\u001b[0m\u001b[1;33m)\u001b[0m\u001b[1;33m\u001b[0m\u001b[1;33m\u001b[0m\u001b[0m\n\u001b[0;32m     20\u001b[0m     \u001b[0mprint\u001b[0m\u001b[1;33m(\u001b[0m\u001b[1;34m'Original class distributions used (possibly imbalanced)'\u001b[0m\u001b[1;33m)\u001b[0m\u001b[1;33m\u001b[0m\u001b[1;33m\u001b[0m\u001b[0m\n\u001b[1;32m---> 21\u001b[1;33m     \u001b[0mimage_dataset\u001b[0m \u001b[1;33m=\u001b[0m \u001b[0mdatasets\u001b[0m\u001b[1;33m.\u001b[0m\u001b[0mCleanDataset\u001b[0m\u001b[1;33m(\u001b[0m\u001b[0margs\u001b[0m\u001b[1;33m,\u001b[0m \u001b[0mdata_transforms\u001b[0m\u001b[1;33m,\u001b[0m \u001b[0mclasses\u001b[0m\u001b[1;33m)\u001b[0m\u001b[1;33m\u001b[0m\u001b[1;33m\u001b[0m\u001b[0m\n\u001b[0m\u001b[0;32m     22\u001b[0m     dataloader = torch.utils.data.DataLoader(image_dataset, args.batch_size, \n\u001b[0;32m     23\u001b[0m         num_workers=2, shuffle=True)\n",
      "\u001b[1;32mc:\\Users\\lukej\\Documents\\VieweetInternship\\DataForLuke-20210816T212605Z-001\\DataForLuke\\code_edited\\datasets.py\u001b[0m in \u001b[0;36m__init__\u001b[1;34m(self, args, transforms, classes)\u001b[0m\n\u001b[0;32m     35\u001b[0m         \u001b[1;31m#if args.incl_metadata:\u001b[0m\u001b[1;33m\u001b[0m\u001b[1;33m\u001b[0m\u001b[1;33m\u001b[0m\u001b[0m\n\u001b[0;32m     36\u001b[0m         \u001b[1;31m#c_path = c_path[:-4]+'_wmeta'+c_path[-4:]\u001b[0m\u001b[1;33m\u001b[0m\u001b[1;33m\u001b[0m\u001b[1;33m\u001b[0m\u001b[0m\n\u001b[1;32m---> 37\u001b[1;33m         \u001b[0mfull_codex\u001b[0m \u001b[1;33m=\u001b[0m \u001b[0mpd\u001b[0m\u001b[1;33m.\u001b[0m\u001b[0mread_csv\u001b[0m\u001b[1;33m(\u001b[0m\u001b[0mc_path\u001b[0m\u001b[1;33m)\u001b[0m\u001b[1;33m\u001b[0m\u001b[1;33m\u001b[0m\u001b[0m\n\u001b[0m\u001b[0;32m     38\u001b[0m         \u001b[0mself\u001b[0m\u001b[1;33m.\u001b[0m\u001b[0mcodex\u001b[0m \u001b[1;33m=\u001b[0m \u001b[0mfull_codex\u001b[0m\u001b[1;33m[\u001b[0m\u001b[0mfull_codex\u001b[0m\u001b[1;33m[\u001b[0m\u001b[1;34m'set'\u001b[0m\u001b[1;33m]\u001b[0m\u001b[1;33m==\u001b[0m\u001b[1;34m'test'\u001b[0m\u001b[1;33m]\u001b[0m\u001b[1;33m\u001b[0m\u001b[1;33m\u001b[0m\u001b[0m\n\u001b[0;32m     39\u001b[0m \u001b[1;33m\u001b[0m\u001b[0m\n",
      "\u001b[1;32m~\\Anaconda3\\envs\\test-env2\\lib\\site-packages\\pandas\\util\\_decorators.py\u001b[0m in \u001b[0;36mwrapper\u001b[1;34m(*args, **kwargs)\u001b[0m\n\u001b[0;32m    309\u001b[0m                     \u001b[0mstacklevel\u001b[0m\u001b[1;33m=\u001b[0m\u001b[0mstacklevel\u001b[0m\u001b[1;33m,\u001b[0m\u001b[1;33m\u001b[0m\u001b[1;33m\u001b[0m\u001b[0m\n\u001b[0;32m    310\u001b[0m                 )\n\u001b[1;32m--> 311\u001b[1;33m             \u001b[1;32mreturn\u001b[0m \u001b[0mfunc\u001b[0m\u001b[1;33m(\u001b[0m\u001b[1;33m*\u001b[0m\u001b[0margs\u001b[0m\u001b[1;33m,\u001b[0m \u001b[1;33m**\u001b[0m\u001b[0mkwargs\u001b[0m\u001b[1;33m)\u001b[0m\u001b[1;33m\u001b[0m\u001b[1;33m\u001b[0m\u001b[0m\n\u001b[0m\u001b[0;32m    312\u001b[0m \u001b[1;33m\u001b[0m\u001b[0m\n\u001b[0;32m    313\u001b[0m         \u001b[1;32mreturn\u001b[0m \u001b[0mwrapper\u001b[0m\u001b[1;33m\u001b[0m\u001b[1;33m\u001b[0m\u001b[0m\n",
      "\u001b[1;32m~\\Anaconda3\\envs\\test-env2\\lib\\site-packages\\pandas\\io\\parsers\\readers.py\u001b[0m in \u001b[0;36mread_csv\u001b[1;34m(filepath_or_buffer, sep, delimiter, header, names, index_col, usecols, squeeze, prefix, mangle_dupe_cols, dtype, engine, converters, true_values, false_values, skipinitialspace, skiprows, skipfooter, nrows, na_values, keep_default_na, na_filter, verbose, skip_blank_lines, parse_dates, infer_datetime_format, keep_date_col, date_parser, dayfirst, cache_dates, iterator, chunksize, compression, thousands, decimal, lineterminator, quotechar, quoting, doublequote, escapechar, comment, encoding, encoding_errors, dialect, error_bad_lines, warn_bad_lines, on_bad_lines, delim_whitespace, low_memory, memory_map, float_precision, storage_options)\u001b[0m\n\u001b[0;32m    584\u001b[0m     \u001b[0mkwds\u001b[0m\u001b[1;33m.\u001b[0m\u001b[0mupdate\u001b[0m\u001b[1;33m(\u001b[0m\u001b[0mkwds_defaults\u001b[0m\u001b[1;33m)\u001b[0m\u001b[1;33m\u001b[0m\u001b[1;33m\u001b[0m\u001b[0m\n\u001b[0;32m    585\u001b[0m \u001b[1;33m\u001b[0m\u001b[0m\n\u001b[1;32m--> 586\u001b[1;33m     \u001b[1;32mreturn\u001b[0m \u001b[0m_read\u001b[0m\u001b[1;33m(\u001b[0m\u001b[0mfilepath_or_buffer\u001b[0m\u001b[1;33m,\u001b[0m \u001b[0mkwds\u001b[0m\u001b[1;33m)\u001b[0m\u001b[1;33m\u001b[0m\u001b[1;33m\u001b[0m\u001b[0m\n\u001b[0m\u001b[0;32m    587\u001b[0m \u001b[1;33m\u001b[0m\u001b[0m\n\u001b[0;32m    588\u001b[0m \u001b[1;33m\u001b[0m\u001b[0m\n",
      "\u001b[1;32m~\\Anaconda3\\envs\\test-env2\\lib\\site-packages\\pandas\\io\\parsers\\readers.py\u001b[0m in \u001b[0;36m_read\u001b[1;34m(filepath_or_buffer, kwds)\u001b[0m\n\u001b[0;32m    480\u001b[0m \u001b[1;33m\u001b[0m\u001b[0m\n\u001b[0;32m    481\u001b[0m     \u001b[1;31m# Create the parser.\u001b[0m\u001b[1;33m\u001b[0m\u001b[1;33m\u001b[0m\u001b[1;33m\u001b[0m\u001b[0m\n\u001b[1;32m--> 482\u001b[1;33m     \u001b[0mparser\u001b[0m \u001b[1;33m=\u001b[0m \u001b[0mTextFileReader\u001b[0m\u001b[1;33m(\u001b[0m\u001b[0mfilepath_or_buffer\u001b[0m\u001b[1;33m,\u001b[0m \u001b[1;33m**\u001b[0m\u001b[0mkwds\u001b[0m\u001b[1;33m)\u001b[0m\u001b[1;33m\u001b[0m\u001b[1;33m\u001b[0m\u001b[0m\n\u001b[0m\u001b[0;32m    483\u001b[0m \u001b[1;33m\u001b[0m\u001b[0m\n\u001b[0;32m    484\u001b[0m     \u001b[1;32mif\u001b[0m \u001b[0mchunksize\u001b[0m \u001b[1;32mor\u001b[0m \u001b[0miterator\u001b[0m\u001b[1;33m:\u001b[0m\u001b[1;33m\u001b[0m\u001b[1;33m\u001b[0m\u001b[0m\n",
      "\u001b[1;32m~\\Anaconda3\\envs\\test-env2\\lib\\site-packages\\pandas\\io\\parsers\\readers.py\u001b[0m in \u001b[0;36m__init__\u001b[1;34m(self, f, engine, **kwds)\u001b[0m\n\u001b[0;32m    809\u001b[0m             \u001b[0mself\u001b[0m\u001b[1;33m.\u001b[0m\u001b[0moptions\u001b[0m\u001b[1;33m[\u001b[0m\u001b[1;34m\"has_index_names\"\u001b[0m\u001b[1;33m]\u001b[0m \u001b[1;33m=\u001b[0m \u001b[0mkwds\u001b[0m\u001b[1;33m[\u001b[0m\u001b[1;34m\"has_index_names\"\u001b[0m\u001b[1;33m]\u001b[0m\u001b[1;33m\u001b[0m\u001b[1;33m\u001b[0m\u001b[0m\n\u001b[0;32m    810\u001b[0m \u001b[1;33m\u001b[0m\u001b[0m\n\u001b[1;32m--> 811\u001b[1;33m         \u001b[0mself\u001b[0m\u001b[1;33m.\u001b[0m\u001b[0m_engine\u001b[0m \u001b[1;33m=\u001b[0m \u001b[0mself\u001b[0m\u001b[1;33m.\u001b[0m\u001b[0m_make_engine\u001b[0m\u001b[1;33m(\u001b[0m\u001b[0mself\u001b[0m\u001b[1;33m.\u001b[0m\u001b[0mengine\u001b[0m\u001b[1;33m)\u001b[0m\u001b[1;33m\u001b[0m\u001b[1;33m\u001b[0m\u001b[0m\n\u001b[0m\u001b[0;32m    812\u001b[0m \u001b[1;33m\u001b[0m\u001b[0m\n\u001b[0;32m    813\u001b[0m     \u001b[1;32mdef\u001b[0m \u001b[0mclose\u001b[0m\u001b[1;33m(\u001b[0m\u001b[0mself\u001b[0m\u001b[1;33m)\u001b[0m\u001b[1;33m:\u001b[0m\u001b[1;33m\u001b[0m\u001b[1;33m\u001b[0m\u001b[0m\n",
      "\u001b[1;32m~\\Anaconda3\\envs\\test-env2\\lib\\site-packages\\pandas\\io\\parsers\\readers.py\u001b[0m in \u001b[0;36m_make_engine\u001b[1;34m(self, engine)\u001b[0m\n\u001b[0;32m   1038\u001b[0m             )\n\u001b[0;32m   1039\u001b[0m         \u001b[1;31m# error: Too many arguments for \"ParserBase\"\u001b[0m\u001b[1;33m\u001b[0m\u001b[1;33m\u001b[0m\u001b[1;33m\u001b[0m\u001b[0m\n\u001b[1;32m-> 1040\u001b[1;33m         \u001b[1;32mreturn\u001b[0m \u001b[0mmapping\u001b[0m\u001b[1;33m[\u001b[0m\u001b[0mengine\u001b[0m\u001b[1;33m]\u001b[0m\u001b[1;33m(\u001b[0m\u001b[0mself\u001b[0m\u001b[1;33m.\u001b[0m\u001b[0mf\u001b[0m\u001b[1;33m,\u001b[0m \u001b[1;33m**\u001b[0m\u001b[0mself\u001b[0m\u001b[1;33m.\u001b[0m\u001b[0moptions\u001b[0m\u001b[1;33m)\u001b[0m  \u001b[1;31m# type: ignore[call-arg]\u001b[0m\u001b[1;33m\u001b[0m\u001b[1;33m\u001b[0m\u001b[0m\n\u001b[0m\u001b[0;32m   1041\u001b[0m \u001b[1;33m\u001b[0m\u001b[0m\n\u001b[0;32m   1042\u001b[0m     \u001b[1;32mdef\u001b[0m \u001b[0m_failover_to_python\u001b[0m\u001b[1;33m(\u001b[0m\u001b[0mself\u001b[0m\u001b[1;33m)\u001b[0m\u001b[1;33m:\u001b[0m\u001b[1;33m\u001b[0m\u001b[1;33m\u001b[0m\u001b[0m\n",
      "\u001b[1;32m~\\Anaconda3\\envs\\test-env2\\lib\\site-packages\\pandas\\io\\parsers\\c_parser_wrapper.py\u001b[0m in \u001b[0;36m__init__\u001b[1;34m(self, src, **kwds)\u001b[0m\n\u001b[0;32m     49\u001b[0m \u001b[1;33m\u001b[0m\u001b[0m\n\u001b[0;32m     50\u001b[0m         \u001b[1;31m# open handles\u001b[0m\u001b[1;33m\u001b[0m\u001b[1;33m\u001b[0m\u001b[1;33m\u001b[0m\u001b[0m\n\u001b[1;32m---> 51\u001b[1;33m         \u001b[0mself\u001b[0m\u001b[1;33m.\u001b[0m\u001b[0m_open_handles\u001b[0m\u001b[1;33m(\u001b[0m\u001b[0msrc\u001b[0m\u001b[1;33m,\u001b[0m \u001b[0mkwds\u001b[0m\u001b[1;33m)\u001b[0m\u001b[1;33m\u001b[0m\u001b[1;33m\u001b[0m\u001b[0m\n\u001b[0m\u001b[0;32m     52\u001b[0m         \u001b[1;32massert\u001b[0m \u001b[0mself\u001b[0m\u001b[1;33m.\u001b[0m\u001b[0mhandles\u001b[0m \u001b[1;32mis\u001b[0m \u001b[1;32mnot\u001b[0m \u001b[1;32mNone\u001b[0m\u001b[1;33m\u001b[0m\u001b[1;33m\u001b[0m\u001b[0m\n\u001b[0;32m     53\u001b[0m \u001b[1;33m\u001b[0m\u001b[0m\n",
      "\u001b[1;32m~\\Anaconda3\\envs\\test-env2\\lib\\site-packages\\pandas\\io\\parsers\\base_parser.py\u001b[0m in \u001b[0;36m_open_handles\u001b[1;34m(self, src, kwds)\u001b[0m\n\u001b[0;32m    220\u001b[0m         \u001b[0mLet\u001b[0m \u001b[0mthe\u001b[0m \u001b[0mreaders\u001b[0m \u001b[0mopen\u001b[0m \u001b[0mIOHandles\u001b[0m \u001b[0mafter\u001b[0m \u001b[0mthey\u001b[0m \u001b[0mare\u001b[0m \u001b[0mdone\u001b[0m \u001b[1;32mwith\u001b[0m \u001b[0mtheir\u001b[0m \u001b[0mpotential\u001b[0m \u001b[0mraises\u001b[0m\u001b[1;33m.\u001b[0m\u001b[1;33m\u001b[0m\u001b[1;33m\u001b[0m\u001b[0m\n\u001b[0;32m    221\u001b[0m         \"\"\"\n\u001b[1;32m--> 222\u001b[1;33m         self.handles = get_handle(\n\u001b[0m\u001b[0;32m    223\u001b[0m             \u001b[0msrc\u001b[0m\u001b[1;33m,\u001b[0m\u001b[1;33m\u001b[0m\u001b[1;33m\u001b[0m\u001b[0m\n\u001b[0;32m    224\u001b[0m             \u001b[1;34m\"r\"\u001b[0m\u001b[1;33m,\u001b[0m\u001b[1;33m\u001b[0m\u001b[1;33m\u001b[0m\u001b[0m\n",
      "\u001b[1;32m~\\Anaconda3\\envs\\test-env2\\lib\\site-packages\\pandas\\io\\common.py\u001b[0m in \u001b[0;36mget_handle\u001b[1;34m(path_or_buf, mode, encoding, compression, memory_map, is_text, errors, storage_options)\u001b[0m\n\u001b[0;32m    606\u001b[0m \u001b[1;33m\u001b[0m\u001b[0m\n\u001b[0;32m    607\u001b[0m     \u001b[1;31m# open URLs\u001b[0m\u001b[1;33m\u001b[0m\u001b[1;33m\u001b[0m\u001b[1;33m\u001b[0m\u001b[0m\n\u001b[1;32m--> 608\u001b[1;33m     ioargs = _get_filepath_or_buffer(\n\u001b[0m\u001b[0;32m    609\u001b[0m         \u001b[0mpath_or_buf\u001b[0m\u001b[1;33m,\u001b[0m\u001b[1;33m\u001b[0m\u001b[1;33m\u001b[0m\u001b[0m\n\u001b[0;32m    610\u001b[0m         \u001b[0mencoding\u001b[0m\u001b[1;33m=\u001b[0m\u001b[0mencoding\u001b[0m\u001b[1;33m,\u001b[0m\u001b[1;33m\u001b[0m\u001b[1;33m\u001b[0m\u001b[0m\n",
      "\u001b[1;32m~\\Anaconda3\\envs\\test-env2\\lib\\site-packages\\pandas\\io\\common.py\u001b[0m in \u001b[0;36m_get_filepath_or_buffer\u001b[1;34m(filepath_or_buffer, encoding, compression, mode, storage_options)\u001b[0m\n\u001b[0;32m    393\u001b[0m     \u001b[1;32mif\u001b[0m \u001b[1;32mnot\u001b[0m \u001b[0mis_file_like\u001b[0m\u001b[1;33m(\u001b[0m\u001b[0mfilepath_or_buffer\u001b[0m\u001b[1;33m)\u001b[0m\u001b[1;33m:\u001b[0m\u001b[1;33m\u001b[0m\u001b[1;33m\u001b[0m\u001b[0m\n\u001b[0;32m    394\u001b[0m         \u001b[0mmsg\u001b[0m \u001b[1;33m=\u001b[0m \u001b[1;34mf\"Invalid file path or buffer object type: {type(filepath_or_buffer)}\"\u001b[0m\u001b[1;33m\u001b[0m\u001b[1;33m\u001b[0m\u001b[0m\n\u001b[1;32m--> 395\u001b[1;33m         \u001b[1;32mraise\u001b[0m \u001b[0mValueError\u001b[0m\u001b[1;33m(\u001b[0m\u001b[0mmsg\u001b[0m\u001b[1;33m)\u001b[0m\u001b[1;33m\u001b[0m\u001b[1;33m\u001b[0m\u001b[0m\n\u001b[0m\u001b[0;32m    396\u001b[0m \u001b[1;33m\u001b[0m\u001b[0m\n\u001b[0;32m    397\u001b[0m     return IOArgs(\n",
      "\u001b[1;31mValueError\u001b[0m: Invalid file path or buffer object type: <class 'tuple'>"
     ]
    }
   ],
   "metadata": {}
  },
  {
   "cell_type": "code",
   "execution_count": 27,
   "source": [
    "load_data(args)"
   ],
   "outputs": [
    {
     "output_type": "stream",
     "name": "stdout",
     "text": [
      "Loading Data...\n",
      "Original class distributions used (possibly imbalanced)\n"
     ]
    },
    {
     "output_type": "error",
     "ename": "ValueError",
     "evalue": "Invalid file path or buffer object type: <class 'tuple'>",
     "traceback": [
      "\u001b[1;31m---------------------------------------------------------------------------\u001b[0m",
      "\u001b[1;31mValueError\u001b[0m                                Traceback (most recent call last)",
      "\u001b[1;32m<ipython-input-27-651e9d649f55>\u001b[0m in \u001b[0;36m<module>\u001b[1;34m\u001b[0m\n\u001b[1;32m----> 1\u001b[1;33m \u001b[0mload_data\u001b[0m\u001b[1;33m(\u001b[0m\u001b[0margs\u001b[0m\u001b[1;33m)\u001b[0m\u001b[1;33m\u001b[0m\u001b[1;33m\u001b[0m\u001b[0m\n\u001b[0m",
      "\u001b[1;32m<ipython-input-3-feeef8cb4a4a>\u001b[0m in \u001b[0;36mload_data\u001b[1;34m(args)\u001b[0m\n\u001b[0;32m     19\u001b[0m     \u001b[0mprint\u001b[0m\u001b[1;33m(\u001b[0m\u001b[1;34m\"Loading Data...\"\u001b[0m\u001b[1;33m)\u001b[0m\u001b[1;33m\u001b[0m\u001b[1;33m\u001b[0m\u001b[0m\n\u001b[0;32m     20\u001b[0m     \u001b[0mprint\u001b[0m\u001b[1;33m(\u001b[0m\u001b[1;34m'Original class distributions used (possibly imbalanced)'\u001b[0m\u001b[1;33m)\u001b[0m\u001b[1;33m\u001b[0m\u001b[1;33m\u001b[0m\u001b[0m\n\u001b[1;32m---> 21\u001b[1;33m     \u001b[0mimage_dataset\u001b[0m \u001b[1;33m=\u001b[0m \u001b[0mdatasets\u001b[0m\u001b[1;33m.\u001b[0m\u001b[0mCleanDataset\u001b[0m\u001b[1;33m(\u001b[0m\u001b[0margs\u001b[0m\u001b[1;33m,\u001b[0m \u001b[0mdata_transforms\u001b[0m\u001b[1;33m,\u001b[0m \u001b[0mclasses\u001b[0m\u001b[1;33m)\u001b[0m\u001b[1;33m\u001b[0m\u001b[1;33m\u001b[0m\u001b[0m\n\u001b[0m\u001b[0;32m     22\u001b[0m     dataloader = torch.utils.data.DataLoader(image_dataset, args.batch_size, \n\u001b[0;32m     23\u001b[0m         num_workers=2, shuffle=True)\n",
      "\u001b[1;32mc:\\Users\\lukej\\Documents\\VieweetInternship\\DataForLuke-20210816T212605Z-001\\DataForLuke\\code_edited\\datasets.py\u001b[0m in \u001b[0;36m__init__\u001b[1;34m(self, args, transforms, classes)\u001b[0m\n\u001b[0;32m     35\u001b[0m         \u001b[1;31m#if args.incl_metadata:\u001b[0m\u001b[1;33m\u001b[0m\u001b[1;33m\u001b[0m\u001b[1;33m\u001b[0m\u001b[0m\n\u001b[0;32m     36\u001b[0m         \u001b[1;31m#c_path = c_path[:-4]+'_wmeta'+c_path[-4:]\u001b[0m\u001b[1;33m\u001b[0m\u001b[1;33m\u001b[0m\u001b[1;33m\u001b[0m\u001b[0m\n\u001b[1;32m---> 37\u001b[1;33m         \u001b[0mfull_codex\u001b[0m \u001b[1;33m=\u001b[0m \u001b[0mpd\u001b[0m\u001b[1;33m.\u001b[0m\u001b[0mread_csv\u001b[0m\u001b[1;33m(\u001b[0m\u001b[0mc_path\u001b[0m\u001b[1;33m)\u001b[0m\u001b[1;33m\u001b[0m\u001b[1;33m\u001b[0m\u001b[0m\n\u001b[0m\u001b[0;32m     38\u001b[0m         \u001b[0mself\u001b[0m\u001b[1;33m.\u001b[0m\u001b[0mcodex\u001b[0m \u001b[1;33m=\u001b[0m \u001b[0mfull_codex\u001b[0m\u001b[1;33m[\u001b[0m\u001b[0mfull_codex\u001b[0m\u001b[1;33m[\u001b[0m\u001b[1;34m'set'\u001b[0m\u001b[1;33m]\u001b[0m\u001b[1;33m==\u001b[0m\u001b[1;34m'test'\u001b[0m\u001b[1;33m]\u001b[0m\u001b[1;33m\u001b[0m\u001b[1;33m\u001b[0m\u001b[0m\n\u001b[0;32m     39\u001b[0m \u001b[1;33m\u001b[0m\u001b[0m\n",
      "\u001b[1;32m~\\Anaconda3\\envs\\test-env2\\lib\\site-packages\\pandas\\util\\_decorators.py\u001b[0m in \u001b[0;36mwrapper\u001b[1;34m(*args, **kwargs)\u001b[0m\n\u001b[0;32m    309\u001b[0m                     \u001b[0mstacklevel\u001b[0m\u001b[1;33m=\u001b[0m\u001b[0mstacklevel\u001b[0m\u001b[1;33m,\u001b[0m\u001b[1;33m\u001b[0m\u001b[1;33m\u001b[0m\u001b[0m\n\u001b[0;32m    310\u001b[0m                 )\n\u001b[1;32m--> 311\u001b[1;33m             \u001b[1;32mreturn\u001b[0m \u001b[0mfunc\u001b[0m\u001b[1;33m(\u001b[0m\u001b[1;33m*\u001b[0m\u001b[0margs\u001b[0m\u001b[1;33m,\u001b[0m \u001b[1;33m**\u001b[0m\u001b[0mkwargs\u001b[0m\u001b[1;33m)\u001b[0m\u001b[1;33m\u001b[0m\u001b[1;33m\u001b[0m\u001b[0m\n\u001b[0m\u001b[0;32m    312\u001b[0m \u001b[1;33m\u001b[0m\u001b[0m\n\u001b[0;32m    313\u001b[0m         \u001b[1;32mreturn\u001b[0m \u001b[0mwrapper\u001b[0m\u001b[1;33m\u001b[0m\u001b[1;33m\u001b[0m\u001b[0m\n",
      "\u001b[1;32m~\\Anaconda3\\envs\\test-env2\\lib\\site-packages\\pandas\\io\\parsers\\readers.py\u001b[0m in \u001b[0;36mread_csv\u001b[1;34m(filepath_or_buffer, sep, delimiter, header, names, index_col, usecols, squeeze, prefix, mangle_dupe_cols, dtype, engine, converters, true_values, false_values, skipinitialspace, skiprows, skipfooter, nrows, na_values, keep_default_na, na_filter, verbose, skip_blank_lines, parse_dates, infer_datetime_format, keep_date_col, date_parser, dayfirst, cache_dates, iterator, chunksize, compression, thousands, decimal, lineterminator, quotechar, quoting, doublequote, escapechar, comment, encoding, encoding_errors, dialect, error_bad_lines, warn_bad_lines, on_bad_lines, delim_whitespace, low_memory, memory_map, float_precision, storage_options)\u001b[0m\n\u001b[0;32m    584\u001b[0m     \u001b[0mkwds\u001b[0m\u001b[1;33m.\u001b[0m\u001b[0mupdate\u001b[0m\u001b[1;33m(\u001b[0m\u001b[0mkwds_defaults\u001b[0m\u001b[1;33m)\u001b[0m\u001b[1;33m\u001b[0m\u001b[1;33m\u001b[0m\u001b[0m\n\u001b[0;32m    585\u001b[0m \u001b[1;33m\u001b[0m\u001b[0m\n\u001b[1;32m--> 586\u001b[1;33m     \u001b[1;32mreturn\u001b[0m \u001b[0m_read\u001b[0m\u001b[1;33m(\u001b[0m\u001b[0mfilepath_or_buffer\u001b[0m\u001b[1;33m,\u001b[0m \u001b[0mkwds\u001b[0m\u001b[1;33m)\u001b[0m\u001b[1;33m\u001b[0m\u001b[1;33m\u001b[0m\u001b[0m\n\u001b[0m\u001b[0;32m    587\u001b[0m \u001b[1;33m\u001b[0m\u001b[0m\n\u001b[0;32m    588\u001b[0m \u001b[1;33m\u001b[0m\u001b[0m\n",
      "\u001b[1;32m~\\Anaconda3\\envs\\test-env2\\lib\\site-packages\\pandas\\io\\parsers\\readers.py\u001b[0m in \u001b[0;36m_read\u001b[1;34m(filepath_or_buffer, kwds)\u001b[0m\n\u001b[0;32m    480\u001b[0m \u001b[1;33m\u001b[0m\u001b[0m\n\u001b[0;32m    481\u001b[0m     \u001b[1;31m# Create the parser.\u001b[0m\u001b[1;33m\u001b[0m\u001b[1;33m\u001b[0m\u001b[1;33m\u001b[0m\u001b[0m\n\u001b[1;32m--> 482\u001b[1;33m     \u001b[0mparser\u001b[0m \u001b[1;33m=\u001b[0m \u001b[0mTextFileReader\u001b[0m\u001b[1;33m(\u001b[0m\u001b[0mfilepath_or_buffer\u001b[0m\u001b[1;33m,\u001b[0m \u001b[1;33m**\u001b[0m\u001b[0mkwds\u001b[0m\u001b[1;33m)\u001b[0m\u001b[1;33m\u001b[0m\u001b[1;33m\u001b[0m\u001b[0m\n\u001b[0m\u001b[0;32m    483\u001b[0m \u001b[1;33m\u001b[0m\u001b[0m\n\u001b[0;32m    484\u001b[0m     \u001b[1;32mif\u001b[0m \u001b[0mchunksize\u001b[0m \u001b[1;32mor\u001b[0m \u001b[0miterator\u001b[0m\u001b[1;33m:\u001b[0m\u001b[1;33m\u001b[0m\u001b[1;33m\u001b[0m\u001b[0m\n",
      "\u001b[1;32m~\\Anaconda3\\envs\\test-env2\\lib\\site-packages\\pandas\\io\\parsers\\readers.py\u001b[0m in \u001b[0;36m__init__\u001b[1;34m(self, f, engine, **kwds)\u001b[0m\n\u001b[0;32m    809\u001b[0m             \u001b[0mself\u001b[0m\u001b[1;33m.\u001b[0m\u001b[0moptions\u001b[0m\u001b[1;33m[\u001b[0m\u001b[1;34m\"has_index_names\"\u001b[0m\u001b[1;33m]\u001b[0m \u001b[1;33m=\u001b[0m \u001b[0mkwds\u001b[0m\u001b[1;33m[\u001b[0m\u001b[1;34m\"has_index_names\"\u001b[0m\u001b[1;33m]\u001b[0m\u001b[1;33m\u001b[0m\u001b[1;33m\u001b[0m\u001b[0m\n\u001b[0;32m    810\u001b[0m \u001b[1;33m\u001b[0m\u001b[0m\n\u001b[1;32m--> 811\u001b[1;33m         \u001b[0mself\u001b[0m\u001b[1;33m.\u001b[0m\u001b[0m_engine\u001b[0m \u001b[1;33m=\u001b[0m \u001b[0mself\u001b[0m\u001b[1;33m.\u001b[0m\u001b[0m_make_engine\u001b[0m\u001b[1;33m(\u001b[0m\u001b[0mself\u001b[0m\u001b[1;33m.\u001b[0m\u001b[0mengine\u001b[0m\u001b[1;33m)\u001b[0m\u001b[1;33m\u001b[0m\u001b[1;33m\u001b[0m\u001b[0m\n\u001b[0m\u001b[0;32m    812\u001b[0m \u001b[1;33m\u001b[0m\u001b[0m\n\u001b[0;32m    813\u001b[0m     \u001b[1;32mdef\u001b[0m \u001b[0mclose\u001b[0m\u001b[1;33m(\u001b[0m\u001b[0mself\u001b[0m\u001b[1;33m)\u001b[0m\u001b[1;33m:\u001b[0m\u001b[1;33m\u001b[0m\u001b[1;33m\u001b[0m\u001b[0m\n",
      "\u001b[1;32m~\\Anaconda3\\envs\\test-env2\\lib\\site-packages\\pandas\\io\\parsers\\readers.py\u001b[0m in \u001b[0;36m_make_engine\u001b[1;34m(self, engine)\u001b[0m\n\u001b[0;32m   1038\u001b[0m             )\n\u001b[0;32m   1039\u001b[0m         \u001b[1;31m# error: Too many arguments for \"ParserBase\"\u001b[0m\u001b[1;33m\u001b[0m\u001b[1;33m\u001b[0m\u001b[1;33m\u001b[0m\u001b[0m\n\u001b[1;32m-> 1040\u001b[1;33m         \u001b[1;32mreturn\u001b[0m \u001b[0mmapping\u001b[0m\u001b[1;33m[\u001b[0m\u001b[0mengine\u001b[0m\u001b[1;33m]\u001b[0m\u001b[1;33m(\u001b[0m\u001b[0mself\u001b[0m\u001b[1;33m.\u001b[0m\u001b[0mf\u001b[0m\u001b[1;33m,\u001b[0m \u001b[1;33m**\u001b[0m\u001b[0mself\u001b[0m\u001b[1;33m.\u001b[0m\u001b[0moptions\u001b[0m\u001b[1;33m)\u001b[0m  \u001b[1;31m# type: ignore[call-arg]\u001b[0m\u001b[1;33m\u001b[0m\u001b[1;33m\u001b[0m\u001b[0m\n\u001b[0m\u001b[0;32m   1041\u001b[0m \u001b[1;33m\u001b[0m\u001b[0m\n\u001b[0;32m   1042\u001b[0m     \u001b[1;32mdef\u001b[0m \u001b[0m_failover_to_python\u001b[0m\u001b[1;33m(\u001b[0m\u001b[0mself\u001b[0m\u001b[1;33m)\u001b[0m\u001b[1;33m:\u001b[0m\u001b[1;33m\u001b[0m\u001b[1;33m\u001b[0m\u001b[0m\n",
      "\u001b[1;32m~\\Anaconda3\\envs\\test-env2\\lib\\site-packages\\pandas\\io\\parsers\\c_parser_wrapper.py\u001b[0m in \u001b[0;36m__init__\u001b[1;34m(self, src, **kwds)\u001b[0m\n\u001b[0;32m     49\u001b[0m \u001b[1;33m\u001b[0m\u001b[0m\n\u001b[0;32m     50\u001b[0m         \u001b[1;31m# open handles\u001b[0m\u001b[1;33m\u001b[0m\u001b[1;33m\u001b[0m\u001b[1;33m\u001b[0m\u001b[0m\n\u001b[1;32m---> 51\u001b[1;33m         \u001b[0mself\u001b[0m\u001b[1;33m.\u001b[0m\u001b[0m_open_handles\u001b[0m\u001b[1;33m(\u001b[0m\u001b[0msrc\u001b[0m\u001b[1;33m,\u001b[0m \u001b[0mkwds\u001b[0m\u001b[1;33m)\u001b[0m\u001b[1;33m\u001b[0m\u001b[1;33m\u001b[0m\u001b[0m\n\u001b[0m\u001b[0;32m     52\u001b[0m         \u001b[1;32massert\u001b[0m \u001b[0mself\u001b[0m\u001b[1;33m.\u001b[0m\u001b[0mhandles\u001b[0m \u001b[1;32mis\u001b[0m \u001b[1;32mnot\u001b[0m \u001b[1;32mNone\u001b[0m\u001b[1;33m\u001b[0m\u001b[1;33m\u001b[0m\u001b[0m\n\u001b[0;32m     53\u001b[0m \u001b[1;33m\u001b[0m\u001b[0m\n",
      "\u001b[1;32m~\\Anaconda3\\envs\\test-env2\\lib\\site-packages\\pandas\\io\\parsers\\base_parser.py\u001b[0m in \u001b[0;36m_open_handles\u001b[1;34m(self, src, kwds)\u001b[0m\n\u001b[0;32m    220\u001b[0m         \u001b[0mLet\u001b[0m \u001b[0mthe\u001b[0m \u001b[0mreaders\u001b[0m \u001b[0mopen\u001b[0m \u001b[0mIOHandles\u001b[0m \u001b[0mafter\u001b[0m \u001b[0mthey\u001b[0m \u001b[0mare\u001b[0m \u001b[0mdone\u001b[0m \u001b[1;32mwith\u001b[0m \u001b[0mtheir\u001b[0m \u001b[0mpotential\u001b[0m \u001b[0mraises\u001b[0m\u001b[1;33m.\u001b[0m\u001b[1;33m\u001b[0m\u001b[1;33m\u001b[0m\u001b[0m\n\u001b[0;32m    221\u001b[0m         \"\"\"\n\u001b[1;32m--> 222\u001b[1;33m         self.handles = get_handle(\n\u001b[0m\u001b[0;32m    223\u001b[0m             \u001b[0msrc\u001b[0m\u001b[1;33m,\u001b[0m\u001b[1;33m\u001b[0m\u001b[1;33m\u001b[0m\u001b[0m\n\u001b[0;32m    224\u001b[0m             \u001b[1;34m\"r\"\u001b[0m\u001b[1;33m,\u001b[0m\u001b[1;33m\u001b[0m\u001b[1;33m\u001b[0m\u001b[0m\n",
      "\u001b[1;32m~\\Anaconda3\\envs\\test-env2\\lib\\site-packages\\pandas\\io\\common.py\u001b[0m in \u001b[0;36mget_handle\u001b[1;34m(path_or_buf, mode, encoding, compression, memory_map, is_text, errors, storage_options)\u001b[0m\n\u001b[0;32m    606\u001b[0m \u001b[1;33m\u001b[0m\u001b[0m\n\u001b[0;32m    607\u001b[0m     \u001b[1;31m# open URLs\u001b[0m\u001b[1;33m\u001b[0m\u001b[1;33m\u001b[0m\u001b[1;33m\u001b[0m\u001b[0m\n\u001b[1;32m--> 608\u001b[1;33m     ioargs = _get_filepath_or_buffer(\n\u001b[0m\u001b[0;32m    609\u001b[0m         \u001b[0mpath_or_buf\u001b[0m\u001b[1;33m,\u001b[0m\u001b[1;33m\u001b[0m\u001b[1;33m\u001b[0m\u001b[0m\n\u001b[0;32m    610\u001b[0m         \u001b[0mencoding\u001b[0m\u001b[1;33m=\u001b[0m\u001b[0mencoding\u001b[0m\u001b[1;33m,\u001b[0m\u001b[1;33m\u001b[0m\u001b[1;33m\u001b[0m\u001b[0m\n",
      "\u001b[1;32m~\\Anaconda3\\envs\\test-env2\\lib\\site-packages\\pandas\\io\\common.py\u001b[0m in \u001b[0;36m_get_filepath_or_buffer\u001b[1;34m(filepath_or_buffer, encoding, compression, mode, storage_options)\u001b[0m\n\u001b[0;32m    393\u001b[0m     \u001b[1;32mif\u001b[0m \u001b[1;32mnot\u001b[0m \u001b[0mis_file_like\u001b[0m\u001b[1;33m(\u001b[0m\u001b[0mfilepath_or_buffer\u001b[0m\u001b[1;33m)\u001b[0m\u001b[1;33m:\u001b[0m\u001b[1;33m\u001b[0m\u001b[1;33m\u001b[0m\u001b[0m\n\u001b[0;32m    394\u001b[0m         \u001b[0mmsg\u001b[0m \u001b[1;33m=\u001b[0m \u001b[1;34mf\"Invalid file path or buffer object type: {type(filepath_or_buffer)}\"\u001b[0m\u001b[1;33m\u001b[0m\u001b[1;33m\u001b[0m\u001b[0m\n\u001b[1;32m--> 395\u001b[1;33m         \u001b[1;32mraise\u001b[0m \u001b[0mValueError\u001b[0m\u001b[1;33m(\u001b[0m\u001b[0mmsg\u001b[0m\u001b[1;33m)\u001b[0m\u001b[1;33m\u001b[0m\u001b[1;33m\u001b[0m\u001b[0m\n\u001b[0m\u001b[0;32m    396\u001b[0m \u001b[1;33m\u001b[0m\u001b[0m\n\u001b[0;32m    397\u001b[0m     return IOArgs(\n",
      "\u001b[1;31mValueError\u001b[0m: Invalid file path or buffer object type: <class 'tuple'>"
     ]
    }
   ],
   "metadata": {}
  },
  {
   "cell_type": "code",
   "execution_count": 26,
   "source": [
    "c_path = os.path.normpath(\"C:/Users/lukej/Documents/VieweetInternship/DataForLuke-20210816T212605Z-001/DataForLuke/full_wmeta.csv\")\r\n",
    "print(c_path)\r\n",
    "print(type(c_path))"
   ],
   "outputs": [
    {
     "output_type": "stream",
     "name": "stdout",
     "text": [
      "C:\\Users\\lukej\\Documents\\VieweetInternship\\DataForLuke-20210816T212605Z-001\\DataForLuke\\full_wmeta.csv\n",
      "<class 'str'>\n"
     ]
    }
   ],
   "metadata": {}
  },
  {
   "cell_type": "code",
   "execution_count": 25,
   "source": [
    "print(type(args.model_dir))"
   ],
   "outputs": [
    {
     "output_type": "stream",
     "name": "stdout",
     "text": [
      "<class 'str'>\n"
     ]
    }
   ],
   "metadata": {}
  },
  {
   "cell_type": "code",
   "execution_count": 14,
   "source": [
    "import os\r\n",
    "os.environ['PATH']"
   ],
   "outputs": [
    {
     "output_type": "execute_result",
     "data": {
      "text/plain": [
       "'C:\\\\Users\\\\lukej\\\\Anaconda3\\\\envs\\\\test-env2;C:\\\\Users\\\\lukej\\\\Anaconda3\\\\envs\\\\test-env2\\\\Library\\\\mingw-w64\\\\bin;C:\\\\Users\\\\lukej\\\\Anaconda3\\\\envs\\\\test-env2\\\\Library\\\\usr\\\\bin;C:\\\\Users\\\\lukej\\\\Anaconda3\\\\envs\\\\test-env2\\\\Library\\\\bin;C:\\\\Users\\\\lukej\\\\Anaconda3\\\\envs\\\\test-env2\\\\Scripts;C:\\\\Users\\\\lukej\\\\Anaconda3\\\\envs\\\\test-env2\\\\bin;C:\\\\Program Files (x86)\\\\Intel\\\\iCLS Client;C:\\\\Program Files\\\\Intel\\\\iCLS Client;C:\\\\WINDOWS\\\\system32;C:\\\\WINDOWS;C:\\\\WINDOWS\\\\System32\\\\Wbem;C:\\\\WINDOWS\\\\System32\\\\WindowsPowerShell\\\\v1.0;C:\\\\Program Files (x86)\\\\Intel\\\\Intel(R) Management Engine Components\\\\DAL;C:\\\\Program Files\\\\Intel\\\\Intel(R) Management Engine Components\\\\DAL;C:\\\\Program Files (x86)\\\\Intel\\\\Intel(R) Management Engine Components\\\\IPT;C:\\\\Program Files\\\\Intel\\\\Intel(R) Management Engine Components\\\\IPT;C:\\\\Program Files\\\\Intel\\\\WiFi\\\\bin;C:\\\\Program Files\\\\Common Files\\\\Intel\\\\WirelessCommon;C:\\\\WINDOWS\\\\System32\\\\OpenSSH;C:\\\\Program Files (x86)\\\\GnuPG\\\\bin;C:\\\\Users\\\\lukej\\\\Anaconda3;C:\\\\Users\\\\lukej\\\\Anaconda3\\\\Library\\\\mingw-w64\\\\bin;C:\\\\Users\\\\lukej\\\\Anaconda3\\\\Library\\\\usr\\\\bin;C:\\\\Users\\\\lukej\\\\Anaconda3\\\\Library\\\\bin;C:\\\\Users\\\\lukej\\\\Anaconda3\\\\Scripts;C:\\\\Users\\\\lukej\\\\AppData\\\\Local\\\\Microsoft\\\\WindowsApps;C:\\\\Users\\\\lukej\\\\AppData\\\\Local\\\\Programs\\\\MicrosoftVSCode\\\\bin;C:\\\\Users\\\\lukej\\\\AppData\\\\Local\\\\Programs\\\\mongosh;C:\\\\MinGW\\\\bin;C:\\\\Users\\\\lukej\\\\Anaconda3\\\\envs\\\\test-env2\\\\Library\\\\bin;C:\\\\Users\\\\lukej\\\\Anaconda3\\\\envs\\\\test-env2\\\\bin;C:\\\\Users\\\\lukej\\\\Anaconda3\\\\envs\\\\test-env2\\\\Scripts;C:\\\\Users\\\\lukej\\\\Anaconda3\\\\condabin;.'"
      ]
     },
     "metadata": {},
     "execution_count": 14
    }
   ],
   "metadata": {}
  }
 ],
 "metadata": {
  "orig_nbformat": 4,
  "language_info": {
   "name": "python",
   "version": "3.8.10",
   "mimetype": "text/x-python",
   "codemirror_mode": {
    "name": "ipython",
    "version": 3
   },
   "pygments_lexer": "ipython3",
   "nbconvert_exporter": "python",
   "file_extension": ".py"
  },
  "kernelspec": {
   "name": "python3",
   "display_name": "Python 3.8.10 64-bit ('test-env2': conda)"
  },
  "interpreter": {
   "hash": "398c6c73e0465da158fe0ee652765081e6cd03bbec46adad44e2502a0b04cc18"
  }
 },
 "nbformat": 4,
 "nbformat_minor": 2
}